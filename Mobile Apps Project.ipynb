{
 "cells": [
  {
   "cell_type": "markdown",
   "metadata": {},
   "source": [
    "# Profitable App Profiles from Google Play Store and Apple Store Market\n",
    "---\n",
    "In this project, we will evaluate different apps in both the Google Play Store and the Apple Store so that we can gain some insight into which apps will produce more revenue for our company based on our development criteria.\n",
    "\n",
    "My aim in this project is to find mobile profiles that are profitable for the Google Play Store and the Apple Store markets. This will help our developers understand what the market demands and how we will be able to fulfill the need in order to be successful.\n",
    "\n",
    "At our company, we will create apps that are free to download and install, and our key revenue stream consists of in-app advertising. This means that our revenue for any given app is largely determined by the number of users using the app. Our aim for this project is to analyze data to help our developers understand what kind of apps are likely to attract more users.\n",
    "\n",
    "## The Data Opening and Exploring\n",
    "\n",
    "Approximately 2 million iOS apps were available on the App Store and 2.1 million Android apps on Google Play as of September 2018.\n",
    "\n",
    "Collecting data for more than 4 million apps requires a considerable amount of time and money, so we'll try to analyze a sample of data instead. In order to avoid spending resources on collecting new data on our own, we should first try to see if we can find any relevant existing data at no cost. Luckily, these are two data sets that seem to be suited to our objectives:\n",
    "\n",
    "- [Google Play Store](https://www.kaggle.com/lava18/google-play-store-apps) A data set containing approximately 10,000 Android apps from Google Play; the data was collected in August 2018. The data set can be downloaded directly from the link.\n",
    "\n",
    "- [Apple Store](https://www.kaggle.com/ramamet4/app-store-apple-data-set-10k-apps) Data set containing approximately 7,000 iOS apps from the App Store; the data was collected in July 2017. The data set can be downloaded directly from the link.\n",
    "\n",
    "Let's start by opening the two data sets and then continue to explore the data."
   ]
  },
  {
   "cell_type": "code",
   "execution_count": 1,
   "metadata": {},
   "outputs": [],
   "source": [
    "# We will first need to import the csv files into our Jupyter notebook\n",
    "\n",
    "### The Apple Store data set ###\n",
    "apple_file = open('AppleStore.csv')\n",
    "from csv import reader\n",
    "read_applefile = reader(apple_file)\n",
    "apple_apps = list(read_applefile)\n",
    "\n",
    "### The Google Play data set ###\n",
    "google_file = open('googleplaystore.csv')\n",
    "read_googlefile = reader(google_file)\n",
    "google_apps = list(read_googlefile)\n",
    "\n"
   ]
  },
  {
   "cell_type": "markdown",
   "metadata": {},
   "source": [
    "---\n",
    "\n",
    "_To make it easier to explore the two data sets, we will first write a function called `explore_data()` which we can use repeatedly to explore the rows in a more readable way. We will also add an option for our function to show the number of rows and columns for any data set._\n",
    "\n",
    "---"
   ]
  },
  {
   "cell_type": "code",
   "execution_count": 2,
   "metadata": {},
   "outputs": [],
   "source": [
    "# We are going to now create a function so we can quickly explore any data set\n",
    "\n",
    "def explore_data(dataset, start, end, rows_and_columns = False):\n",
    "    dataset_slice = dataset[start:end]\n",
    "    for row in dataset_slice:\n",
    "        print(row)\n",
    "        print('\\n') # Adds a new empty line after each row\n",
    "        \n",
    "    if rows_and_columns:\n",
    "        print('Number of rows:', len(dataset))\n",
    "        print('Number of columns:', len(dataset[0]))\n",
    "        "
   ]
  },
  {
   "cell_type": "code",
   "execution_count": 3,
   "metadata": {},
   "outputs": [
    {
     "name": "stdout",
     "output_type": "stream",
     "text": [
      "['id', 'track_name', 'size_bytes', 'currency', 'price', 'rating_count_tot', 'rating_count_ver', 'user_rating', 'user_rating_ver', 'ver', 'cont_rating', 'prime_genre', 'sup_devices.num', 'ipadSc_urls.num', 'lang.num', 'vpp_lic']\n",
      "\n",
      "\n",
      "['284882215', 'Facebook', '389879808', 'USD', '0.0', '2974676', '212', '3.5', '3.5', '95.0', '4+', 'Social Networking', '37', '1', '29', '1']\n",
      "\n",
      "\n",
      "['389801252', 'Instagram', '113954816', 'USD', '0.0', '2161558', '1289', '4.5', '4.0', '10.23', '12+', 'Photo & Video', '37', '0', '29', '1']\n",
      "\n",
      "\n",
      "['529479190', 'Clash of Clans', '116476928', 'USD', '0.0', '2130805', '579', '4.5', '4.5', '9.24.12', '9+', 'Games', '38', '5', '18', '1']\n",
      "\n",
      "\n",
      "Number of rows: 7197\n",
      "Number of columns: 16\n",
      "\n",
      "\n",
      "['App', 'Category', 'Rating', 'Reviews', 'Size', 'Installs', 'Type', 'Price', 'Content Rating', 'Genres', 'Last Updated', 'Current Ver', 'Android Ver']\n",
      "\n",
      "\n",
      "['Photo Editor & Candy Camera & Grid & ScrapBook', 'ART_AND_DESIGN', '4.1', '159', '19M', '10,000+', 'Free', '0', 'Everyone', 'Art & Design', 'January 7, 2018', '1.0.0', '4.0.3 and up']\n",
      "\n",
      "\n",
      "['Coloring book moana', 'ART_AND_DESIGN', '3.9', '967', '14M', '500,000+', 'Free', '0', 'Everyone', 'Art & Design;Pretend Play', 'January 15, 2018', '2.0.0', '4.0.3 and up']\n",
      "\n",
      "\n",
      "['U Launcher Lite – FREE Live Cool Themes, Hide Apps', 'ART_AND_DESIGN', '4.7', '87510', '8.7M', '5,000,000+', 'Free', '0', 'Everyone', 'Art & Design', 'August 1, 2018', '1.2.4', '4.0.3 and up']\n",
      "\n",
      "\n",
      "Number of rows: 10841\n",
      "Number of columns: 13\n"
     ]
    }
   ],
   "source": [
    "## We are going to test the functions \n",
    "\n",
    "print(apple_apps[0])\n",
    "print('\\n')\n",
    "explore_data(apple_apps[1:],0,3,True)\n",
    "print('\\n')\n",
    "print(google_apps[0])\n",
    "print('\\n')\n",
    "explore_data(google_apps[1:],0,3,True)"
   ]
  },
  {
   "cell_type": "markdown",
   "metadata": {},
   "source": [
    ">**_Now we're going to look at the names of the columns(fields) to see which ones are going to be useful in our study. To grasp an understanding of the columns and what they contain we will look at the documentations._** \n",
    "[GooglePlayStore](https://www.kaggle.com/lava18/google-play-store-apps)  [AppleStore](https://www.kaggle.com/ramamet4/app-store-apple-data-set-10k-apps) \n",
    "\n",
    "_At a quick glance, from the Google Play Store the columns that might be useful for the purpose of our analysis are: 'App', 'Category', 'Review', 'Installs', 'Type', 'Price', and 'Genres._ \n",
    "\n",
    "_From the Apple Store the columns that seem interesting are: 'track_name', 'currency', 'price', 'rating_count_tot', 'rating_count_ver', and 'prime_genre'._"
   ]
  },
  {
   "cell_type": "code",
   "execution_count": 4,
   "metadata": {},
   "outputs": [
    {
     "name": "stdout",
     "output_type": "stream",
     "text": [
      "['id', 'track_name', 'size_bytes', 'currency', 'price', 'rating_count_tot', 'rating_count_ver', 'user_rating', 'user_rating_ver', 'ver', 'cont_rating', 'prime_genre', 'sup_devices.num', 'ipadSc_urls.num', 'lang.num', 'vpp_lic']\n",
      "\n",
      "\n",
      "['App', 'Category', 'Rating', 'Reviews', 'Size', 'Installs', 'Type', 'Price', 'Content Rating', 'Genres', 'Last Updated', 'Current Ver', 'Android Ver']\n"
     ]
    }
   ],
   "source": [
    "print(apple_apps[0])\n",
    "print('\\n')\n",
    "print(google_apps[0])"
   ]
  },
  {
   "cell_type": "markdown",
   "metadata": {},
   "source": [
    "## Removing Inaccurate Data\n",
    "\n",
    "> **_Now before we begin our analysis, we need to make sure the data we analyze is accurate, otherwise the results of our analysis will be false. This means that we need to:_**\n",
    " - Detect inaccurate data, and correct or remove it.\n",
    " - Detect duplicate data, and remove the duplicates. "
   ]
  },
  {
   "cell_type": "markdown",
   "metadata": {},
   "source": [
    "_The Google Play data set has a dedicated [discussion section](https://www.kaggle.com/lava18/google-play-store-apps/discussion) and we can see that one of the discussions describes an error for a certain row. We are going to read the discussion section for the App Store data set, and see whether we can find any report of wrong data in our dataset._"
   ]
  },
  {
   "cell_type": "code",
   "execution_count": 5,
   "metadata": {},
   "outputs": [
    {
     "name": "stdout",
     "output_type": "stream",
     "text": [
      "['App', 'Category', 'Rating', 'Reviews', 'Size', 'Installs', 'Type', 'Price', 'Content Rating', 'Genres', 'Last Updated', 'Current Ver', 'Android Ver']\n",
      "\n",
      "\n",
      "['Xposed Wi-Fi-Pwd', 'PERSONALIZATION', '3.5', '1042', '404k', '100,000+', 'Free', '0', 'Everyone', 'Personalization', 'August 5, 2014', '3.0.0', '4.0.3 and up']\n",
      "\n",
      "\n",
      "['Life Made WI-Fi Touchscreen Photo Frame', '1.9', '19', '3.0M', '1,000+', 'Free', '0', 'Everyone', '', 'February 11, 2018', '1.0.19', '4.0 and up']\n"
     ]
    }
   ],
   "source": [
    "print(google_apps[0])\n",
    "print('\\n')\n",
    "\n",
    "# We found the index in the discussion section and we are going to test it \n",
    "print(google_apps[10472])\n",
    "print('\\n')\n",
    "\n",
    "# Incase they included the header or not \n",
    "print(google_apps[10473])"
   ]
  },
  {
   "cell_type": "markdown",
   "metadata": {},
   "source": [
    "---\n",
    "The row 10473 (with headers) corresponds to the app **_Life Made Wi-Fi Touchscreen Photo Frame_** , and we can see that the rating is 19. This is clearly off because the maximum rating for a Google Play app is 5. Hence we will delete this row.\n",
    "\n",
    "--- "
   ]
  },
  {
   "cell_type": "code",
   "execution_count": 6,
   "metadata": {},
   "outputs": [],
   "source": [
    "# We found the row with the wrong data and now we are going to delete it \n",
    "del google_apps[10473]"
   ]
  },
  {
   "cell_type": "markdown",
   "metadata": {},
   "source": [
    "## Removing Duplicate Entries \n",
    "\n",
    "### Part One\n",
    "\n",
    "_Now we are going to check for duplicates in the Google Play Store data set_"
   ]
  },
  {
   "cell_type": "code",
   "execution_count": 7,
   "metadata": {},
   "outputs": [
    {
     "name": "stdout",
     "output_type": "stream",
     "text": [
      "['Quick PDF Scanner + OCR FREE', 'Box', 'Google My Business']\n"
     ]
    }
   ],
   "source": [
    "duplicate_list = []\n",
    "unique_list = []\n",
    "\n",
    "for app in google_apps[1:]:\n",
    "    name = app[0]\n",
    "    if name in unique_list:\n",
    "        duplicate_list.append(name)\n",
    "    else:\n",
    "        unique_list.append(name)\n",
    "        \n",
    "print(duplicate_list[:3])"
   ]
  },
  {
   "cell_type": "markdown",
   "metadata": {},
   "source": [
    "---\n",
    "\n",
    "_The above list shows a few examples of duplicate entries in the data set. Let's see just how many duplicates there are._\n",
    "\n",
    "---"
   ]
  },
  {
   "cell_type": "code",
   "execution_count": 8,
   "metadata": {
    "scrolled": true
   },
   "outputs": [
    {
     "name": "stdout",
     "output_type": "stream",
     "text": [
      "Number of duplicates are: 1181\n"
     ]
    }
   ],
   "source": [
    "print('Number of duplicates are:', len(duplicate_list))"
   ]
  },
  {
   "cell_type": "markdown",
   "metadata": {},
   "source": [
    "---\n",
    "\n",
    "_Our codes show us that we have 1181 duplicates and we're going to have to remove them. However, we're not going to remove duplicates at random. We're going to keep the one with the highest number of reviews seeing that it's the most recent and get rid of the rest._\n",
    "\n",
    "---"
   ]
  },
  {
   "cell_type": "code",
   "execution_count": 9,
   "metadata": {},
   "outputs": [
    {
     "name": "stdout",
     "output_type": "stream",
     "text": [
      "Expected number of apps are: 9659\n"
     ]
    }
   ],
   "source": [
    "# We are going to find out what our expected number of apps should be when we delete the duplicates\n",
    "print('Expected number of apps are:', len(google_apps[1:])- len(duplicate_list))"
   ]
  },
  {
   "cell_type": "code",
   "execution_count": 10,
   "metadata": {},
   "outputs": [
    {
     "name": "stdout",
     "output_type": "stream",
     "text": [
      "Actual number of apps are:  9659\n"
     ]
    }
   ],
   "source": [
    "# Now we are going to start the process of deleting the duplicates and keeping the ones with the highest reviews\n",
    "reviews_max  = {}\n",
    "for app in google_apps[1:]:\n",
    "    name = app[0]\n",
    "    n_reviews = float(app[3])\n",
    "    if name in reviews_max and reviews_max[name] < n_reviews:\n",
    "        reviews_max[name] = n_reviews\n",
    "    elif name not in reviews_max:\n",
    "        reviews_max[name] = n_reviews\n",
    "\n",
    "print('Actual number of apps are: ',len(reviews_max))"
   ]
  },
  {
   "cell_type": "markdown",
   "metadata": {},
   "source": [
    "---\n",
    "\n",
    "*In the code above, we list all the names of the apps and their highest reviews. We're going to use this to delete all the duplicates.*\n"
   ]
  },
  {
   "cell_type": "markdown",
   "metadata": {},
   "source": [
    "### Part Two\n",
    "\n",
    "_Let's use the reviews_max dictionary to remove the duplicates. For the duplicate cases, we'll only keep the entries with the highest number of reviews. In the code cell below:_\n",
    "\n",
    "- We start by initializing two empty lists, android_clean and already_added.\n",
    "- We loop through the android data set, and for every iteration:\n",
    "    - We isolate the name of the app and the number of reviews.\n",
    "    - We add the current row (app) to the android_clean list, and the app name (name) to the already_added list if:\n",
    "        The number of reviews of the current app matches the number of reviews of that app as described in the reviews_max dictionary; and\n",
    "    The name of the app is not already in the already_added list. We need to add this supplementary condition to account for those cases where the highest number of reviews of a duplicate app is the same for more than one entry (for example, the Box app has three entries, and the number of reviews is the same). If we just check for reviews_max[name] == n_reviews, we'll still end up with duplicate entries for some apps.\n",
    "\n",
    "---"
   ]
  },
  {
   "cell_type": "code",
   "execution_count": 11,
   "metadata": {},
   "outputs": [
    {
     "data": {
      "text/plain": [
       "9659"
      ]
     },
     "execution_count": 11,
     "metadata": {},
     "output_type": "execute_result"
    }
   ],
   "source": [
    "android_clean = []\n",
    "already_added = []\n",
    "for app in google_apps[1:]:\n",
    "    name = app[0]\n",
    "    n_reviews = float(app[3])\n",
    "    if (n_reviews == reviews_max[name]) and (name not in already_added):\n",
    "        android_clean.append(app)\n",
    "        already_added.append(name)\n",
    "        \n",
    "len(android_clean)"
   ]
  },
  {
   "cell_type": "markdown",
   "metadata": {},
   "source": [
    "## Removing Non-English Apps\n",
    "\n",
    "### Part One\n",
    "\n",
    "*Now that we've got our clean data set, we're going to make sure that all apps are English-speaking apps since we're catering to an English audience.\n",
    "We will create a function that will help us quickly identify English versus non-English apps.*"
   ]
  },
  {
   "cell_type": "code",
   "execution_count": 12,
   "metadata": {},
   "outputs": [],
   "source": [
    "def english_check(string):\n",
    "    count = 0\n",
    "    for i in string:\n",
    "        if ord(i) > 127: # ASCII standard, characters for English apps fall between 0 and 127\n",
    "            count += 1\n",
    "           \n",
    "    if count > 3:\n",
    "        return False\n",
    "    else:\n",
    "        return True\n",
    "            "
   ]
  },
  {
   "cell_type": "code",
   "execution_count": 13,
   "metadata": {},
   "outputs": [
    {
     "name": "stdout",
     "output_type": "stream",
     "text": [
      "True\n",
      "False\n",
      "True\n",
      "True\n"
     ]
    }
   ],
   "source": [
    "# We are going to test our function with a few examples\n",
    "print(english_check('Instagram'))\n",
    "print(english_check('爱奇艺PPS -《欢乐颂2》电视剧热播'))\n",
    "print(english_check('Docs To Go™ Free Office Suite'))\n",
    "print(english_check('Instachat 😜'))"
   ]
  },
  {
   "cell_type": "markdown",
   "metadata": {},
   "source": [
    "---\n",
    "\n",
    "### Part Two\n",
    "\n",
    "_Since we've created our function to help us quickly identify English apps, we're now going to use it to further clean up our list._\n"
   ]
  },
  {
   "cell_type": "code",
   "execution_count": 14,
   "metadata": {},
   "outputs": [],
   "source": [
    "english_android_clean = []\n",
    "for app in android_clean:\n",
    "    name = app[0]\n",
    "    if english_check(name):\n",
    "        english_android_clean.append(app)\n",
    "        \n",
    "english_apple_apps = []\n",
    "for app in apple_apps[1:]:\n",
    "    name = app[1]\n",
    "    if english_check(name):\n",
    "        english_apple_apps.append(app)\n",
    "        "
   ]
  },
  {
   "cell_type": "code",
   "execution_count": 15,
   "metadata": {},
   "outputs": [
    {
     "name": "stdout",
     "output_type": "stream",
     "text": [
      "9614\n",
      "6183\n"
     ]
    }
   ],
   "source": [
    "# Check how many English apps are actually in the data set\n",
    "print(len(english_android_clean))\n",
    "print(len(english_apple_apps))"
   ]
  },
  {
   "cell_type": "markdown",
   "metadata": {},
   "source": [
    "---\n",
    "\n",
    "## Isolating the Free Apps\n",
    "\n",
    "*So far in the data cleaning process, we:*\n",
    "\n",
    "- Removed inaccurate data\n",
    "- Removed duplicate app entries\n",
    "- Removed non-English apps\n",
    "\n",
    "*Now we are going to isolate all the free apps since we are only interested in those.*"
   ]
  },
  {
   "cell_type": "code",
   "execution_count": 16,
   "metadata": {},
   "outputs": [
    {
     "name": "stdout",
     "output_type": "stream",
     "text": [
      "Number of free Apple apps are:  3222\n",
      "\n",
      "\n",
      "Number of free Google apps are:  8864\n"
     ]
    }
   ],
   "source": [
    "free_apple_apps = []\n",
    "for app in english_apple_apps:\n",
    "    price = float(app[4])\n",
    "    if price == 0.0:\n",
    "        free_apple_apps.append(app)\n",
    "\n",
    "free_google_apps = []\n",
    "check =[]\n",
    "for app in english_android_clean:\n",
    "    price = app[7]\n",
    "    if price[0] == '$': # Some of the price have a $ infront of the number so we have to remove it\n",
    "        price = price[1:]\n",
    "    if float(price) == 0.0:\n",
    "        free_google_apps.append(app)\n",
    "        \n",
    "print(\"Number of free Apple apps are: \", len(free_apple_apps))\n",
    "print('\\n')\n",
    "print('Number of free Google apps are: ', len(free_google_apps))"
   ]
  },
  {
   "cell_type": "markdown",
   "metadata": {},
   "source": [
    "## Most Common Apps by Genre\n",
    "\n",
    "> **So far, we spent a good amount of time on cleaning data, and:**\n",
    "\n",
    "> - Removed inaccurate data\n",
    "- Removed duplicate app entries\n",
    "- Removed non-English apps\n",
    "- Isolated the free apps\n",
    "\n",
    "> **As we mentioned before, our aim is to determine the kinds of apps that are likely to attract more users because our revenue is highly influenced by the number of people using our apps.**\n",
    "\n",
    "> **To minimize risks and overhead, our validation strategy for an app idea is comprised of three steps:**\n",
    "\n",
    "> - Build a minimal Android version of the app, and add it to Google Play.\n",
    "- If the app has a good response from users, we develop it further.\n",
    "- If the app is profitable after six months, we build an iOS version of the app and add it to the App Store.\n",
    "  \n",
    "> **Because our end goal is to add the app on both Google Play and the App Store, we need to find app profiles that are successful on both markets.** "
   ]
  },
  {
   "cell_type": "code",
   "execution_count": 17,
   "metadata": {},
   "outputs": [],
   "source": [
    "# We are going to build two functions to help us identify apps that are successful on both Google Play and Apple Store \n",
    "\n",
    "def freq_table(dataset, index):\n",
    "    freq = {}\n",
    "    for row in dataset:\n",
    "        if row[index] in freq:\n",
    "            freq[row[index]] += 1\n",
    "        else:\n",
    "            freq[row[index]] = 1\n",
    "    for key in freq:\n",
    "        freq[key] = round((freq[key]/len(dataset)) * 100,2) # turn the value into percentage\n",
    "    return freq\n",
    "    \n",
    "def display_table(dataset, index):\n",
    "    table = freq_table(dataset, index)\n",
    "    table_display = []\n",
    "    for key in table:\n",
    "        key_val_as_tuple = (table[key], key)\n",
    "        table_display.append(key_val_as_tuple)\n",
    "    \n",
    "    table_sorted = sorted(table_display, reverse = True)\n",
    "    for entry in table_sorted:\n",
    "        print(entry[1], ' : ', entry[0])\n",
    "    "
   ]
  },
  {
   "cell_type": "code",
   "execution_count": 18,
   "metadata": {},
   "outputs": [
    {
     "name": "stdout",
     "output_type": "stream",
     "text": [
      "Games  :  58.16\n",
      "Entertainment  :  7.88\n",
      "Photo & Video  :  4.97\n",
      "Education  :  3.66\n",
      "Social Networking  :  3.29\n",
      "Shopping  :  2.61\n",
      "Utilities  :  2.51\n",
      "Sports  :  2.14\n",
      "Music  :  2.05\n",
      "Health & Fitness  :  2.02\n",
      "Productivity  :  1.74\n",
      "Lifestyle  :  1.58\n",
      "News  :  1.33\n",
      "Travel  :  1.24\n",
      "Finance  :  1.12\n",
      "Weather  :  0.87\n",
      "Food & Drink  :  0.81\n",
      "Reference  :  0.56\n",
      "Business  :  0.53\n",
      "Book  :  0.43\n",
      "Navigation  :  0.19\n",
      "Medical  :  0.19\n",
      "Catalogs  :  0.12\n"
     ]
    }
   ],
   "source": [
    "# Test the function on the Apple Apps \n",
    "display_table(free_apple_apps, 11)"
   ]
  },
  {
   "cell_type": "markdown",
   "metadata": {},
   "source": [
    "---\n",
    "\n",
    "We can see that more than half (58.16 percent) of the free English apps are games. Entertainment apps are close to 8 percent, followed by photo and video apps close to 5 percent. Only 3.66 per cent of apps are designed for education, followed by social networking apps, which represent 3.29 per cent of apps in our data set.\n",
    "\n",
    "The general impression is that Apple Store (at least part containing free English apps) is dominated by fun-oriented apps (games, entertainment, photos and videos, social networking, sports, music, etc.), while practical apps (education, shopping, utilities, productivity, lifestyle, etc.) are more rare. However, the fact that fun apps are the most numerous does not imply that they also have the largest number of users- the demand may not be the same as the offer.\n",
    "\n",
    "Let us continue by looking at the Genres and Categories columns of the Google Play data set (two columns that appear to be related).\n",
    "\n",
    "---\n"
   ]
  },
  {
   "cell_type": "code",
   "execution_count": 19,
   "metadata": {
    "scrolled": true
   },
   "outputs": [
    {
     "name": "stdout",
     "output_type": "stream",
     "text": [
      "FAMILY  :  18.91\n",
      "GAME  :  9.72\n",
      "TOOLS  :  8.46\n",
      "BUSINESS  :  4.59\n",
      "LIFESTYLE  :  3.9\n",
      "PRODUCTIVITY  :  3.89\n",
      "FINANCE  :  3.7\n",
      "MEDICAL  :  3.53\n",
      "SPORTS  :  3.4\n",
      "PERSONALIZATION  :  3.32\n",
      "COMMUNICATION  :  3.24\n",
      "HEALTH_AND_FITNESS  :  3.08\n",
      "PHOTOGRAPHY  :  2.94\n",
      "NEWS_AND_MAGAZINES  :  2.8\n",
      "SOCIAL  :  2.66\n",
      "TRAVEL_AND_LOCAL  :  2.34\n",
      "SHOPPING  :  2.25\n",
      "BOOKS_AND_REFERENCE  :  2.14\n",
      "DATING  :  1.86\n",
      "VIDEO_PLAYERS  :  1.79\n",
      "MAPS_AND_NAVIGATION  :  1.4\n",
      "FOOD_AND_DRINK  :  1.24\n",
      "EDUCATION  :  1.16\n",
      "ENTERTAINMENT  :  0.96\n",
      "LIBRARIES_AND_DEMO  :  0.94\n",
      "AUTO_AND_VEHICLES  :  0.93\n",
      "HOUSE_AND_HOME  :  0.82\n",
      "WEATHER  :  0.8\n",
      "EVENTS  :  0.71\n",
      "PARENTING  :  0.65\n",
      "ART_AND_DESIGN  :  0.64\n",
      "COMICS  :  0.62\n",
      "BEAUTY  :  0.6\n"
     ]
    }
   ],
   "source": [
    "# Test the function on Google Apps, showing the Category columns by percentage make up\n",
    "display_table(free_google_apps,1)"
   ]
  },
  {
   "cell_type": "code",
   "execution_count": 20,
   "metadata": {},
   "outputs": [
    {
     "name": "stdout",
     "output_type": "stream",
     "text": [
      "Tools  :  8.45\n",
      "Entertainment  :  6.07\n",
      "Education  :  5.35\n",
      "Business  :  4.59\n",
      "Productivity  :  3.89\n",
      "Lifestyle  :  3.89\n",
      "Finance  :  3.7\n",
      "Medical  :  3.53\n",
      "Sports  :  3.46\n",
      "Personalization  :  3.32\n",
      "Communication  :  3.24\n",
      "Action  :  3.1\n",
      "Health & Fitness  :  3.08\n",
      "Photography  :  2.94\n",
      "News & Magazines  :  2.8\n",
      "Social  :  2.66\n",
      "Travel & Local  :  2.32\n",
      "Shopping  :  2.25\n",
      "Books & Reference  :  2.14\n",
      "Simulation  :  2.04\n",
      "Dating  :  1.86\n",
      "Arcade  :  1.85\n",
      "Video Players & Editors  :  1.77\n",
      "Casual  :  1.76\n",
      "Maps & Navigation  :  1.4\n",
      "Food & Drink  :  1.24\n",
      "Puzzle  :  1.13\n",
      "Racing  :  0.99\n",
      "Role Playing  :  0.94\n",
      "Libraries & Demo  :  0.94\n",
      "Auto & Vehicles  :  0.93\n",
      "Strategy  :  0.91\n",
      "House & Home  :  0.82\n",
      "Weather  :  0.8\n",
      "Events  :  0.71\n",
      "Adventure  :  0.68\n",
      "Comics  :  0.61\n",
      "Beauty  :  0.6\n",
      "Art & Design  :  0.6\n",
      "Parenting  :  0.5\n",
      "Card  :  0.45\n",
      "Casino  :  0.43\n",
      "Trivia  :  0.42\n",
      "Educational;Education  :  0.39\n",
      "Board  :  0.38\n",
      "Educational  :  0.37\n",
      "Education;Education  :  0.34\n",
      "Word  :  0.26\n",
      "Casual;Pretend Play  :  0.24\n",
      "Music  :  0.2\n",
      "Racing;Action & Adventure  :  0.17\n",
      "Puzzle;Brain Games  :  0.17\n",
      "Entertainment;Music & Video  :  0.17\n",
      "Casual;Brain Games  :  0.14\n",
      "Casual;Action & Adventure  :  0.14\n",
      "Arcade;Action & Adventure  :  0.12\n",
      "Action;Action & Adventure  :  0.1\n",
      "Educational;Pretend Play  :  0.09\n",
      "Simulation;Action & Adventure  :  0.08\n",
      "Parenting;Education  :  0.08\n",
      "Entertainment;Brain Games  :  0.08\n",
      "Board;Brain Games  :  0.08\n",
      "Parenting;Music & Video  :  0.07\n",
      "Educational;Brain Games  :  0.07\n",
      "Casual;Creativity  :  0.07\n",
      "Art & Design;Creativity  :  0.07\n",
      "Education;Pretend Play  :  0.06\n",
      "Role Playing;Pretend Play  :  0.05\n",
      "Education;Creativity  :  0.05\n",
      "Role Playing;Action & Adventure  :  0.03\n",
      "Puzzle;Action & Adventure  :  0.03\n",
      "Entertainment;Creativity  :  0.03\n",
      "Entertainment;Action & Adventure  :  0.03\n",
      "Educational;Creativity  :  0.03\n",
      "Educational;Action & Adventure  :  0.03\n",
      "Education;Music & Video  :  0.03\n",
      "Education;Brain Games  :  0.03\n",
      "Education;Action & Adventure  :  0.03\n",
      "Adventure;Action & Adventure  :  0.03\n",
      "Video Players & Editors;Music & Video  :  0.02\n",
      "Sports;Action & Adventure  :  0.02\n",
      "Simulation;Pretend Play  :  0.02\n",
      "Puzzle;Creativity  :  0.02\n",
      "Music;Music & Video  :  0.02\n",
      "Entertainment;Pretend Play  :  0.02\n",
      "Casual;Education  :  0.02\n",
      "Board;Action & Adventure  :  0.02\n",
      "Video Players & Editors;Creativity  :  0.01\n",
      "Trivia;Education  :  0.01\n",
      "Travel & Local;Action & Adventure  :  0.01\n",
      "Tools;Education  :  0.01\n",
      "Strategy;Education  :  0.01\n",
      "Strategy;Creativity  :  0.01\n",
      "Strategy;Action & Adventure  :  0.01\n",
      "Simulation;Education  :  0.01\n",
      "Role Playing;Brain Games  :  0.01\n",
      "Racing;Pretend Play  :  0.01\n",
      "Puzzle;Education  :  0.01\n",
      "Parenting;Brain Games  :  0.01\n",
      "Music & Audio;Music & Video  :  0.01\n",
      "Lifestyle;Pretend Play  :  0.01\n",
      "Lifestyle;Education  :  0.01\n",
      "Health & Fitness;Education  :  0.01\n",
      "Health & Fitness;Action & Adventure  :  0.01\n",
      "Entertainment;Education  :  0.01\n",
      "Communication;Creativity  :  0.01\n",
      "Comics;Creativity  :  0.01\n",
      "Casual;Music & Video  :  0.01\n",
      "Card;Action & Adventure  :  0.01\n",
      "Books & Reference;Education  :  0.01\n",
      "Art & Design;Pretend Play  :  0.01\n",
      "Art & Design;Action & Adventure  :  0.01\n",
      "Arcade;Pretend Play  :  0.01\n",
      "Adventure;Education  :  0.01\n"
     ]
    }
   ],
   "source": [
    "# Test the function on Google Apps\n",
    "display_table(free_google_apps, 9)"
   ]
  },
  {
   "cell_type": "markdown",
   "metadata": {},
   "source": [
    "---\n",
    "\n",
    "The difference between the Genres and the Category columns is not crystal clear, but one thing we can see is that the Genres column is much more granular (it has more categories). We're just looking for a larger picture at the moment, so we're just going to work with the Category column moving forward. \n",
    "\n",
    "Up to this point, we've found that the Apple Store is dominated by fun apps, while Google Play shows a more balanced picture of both practical and fun apps. Now we'd like to get an idea of the kind of apps most users have.\n",
    "\n",
    "## Most Popular Genre Apps Available on the Apple Store\n",
    "\n",
    "We now know the most popular apps in each dataset, but to really know if those apps will generate revenue for our company, we'll need to look at the user rating or the apps installment to understand their traction level. One way to find out what genres the most users have is to calculate the average number of installs for each genre of app. This information can be found in the `Installs` column for the Google Play data set, but this information is missing for the App Store data set. As a workaround, we'll take the total number of user ratings as a proxy that can be found in the `rating_count_tot` column.\n",
    "\n",
    "Below, we calculate the average number of ratings per app genre in the App Store:"
   ]
  },
  {
   "cell_type": "code",
   "execution_count": 21,
   "metadata": {},
   "outputs": [
    {
     "data": {
      "text/plain": [
       "{'Social Networking': 3.29,\n",
       " 'Photo & Video': 4.97,\n",
       " 'Games': 58.16,\n",
       " 'Music': 2.05,\n",
       " 'Reference': 0.56,\n",
       " 'Health & Fitness': 2.02,\n",
       " 'Weather': 0.87,\n",
       " 'Utilities': 2.51,\n",
       " 'Travel': 1.24,\n",
       " 'Shopping': 2.61,\n",
       " 'News': 1.33,\n",
       " 'Navigation': 0.19,\n",
       " 'Lifestyle': 1.58,\n",
       " 'Entertainment': 7.88,\n",
       " 'Food & Drink': 0.81,\n",
       " 'Sports': 2.14,\n",
       " 'Book': 0.43,\n",
       " 'Finance': 1.12,\n",
       " 'Education': 3.66,\n",
       " 'Productivity': 1.74,\n",
       " 'Business': 0.53,\n",
       " 'Catalogs': 0.12,\n",
       " 'Medical': 0.19}"
      ]
     },
     "execution_count": 21,
     "metadata": {},
     "output_type": "execute_result"
    }
   ],
   "source": [
    "# We are going to generate a frequency table for the Apple Store Genre column \n",
    "freq_table(free_apple_apps,11)"
   ]
  },
  {
   "cell_type": "code",
   "execution_count": 22,
   "metadata": {},
   "outputs": [
    {
     "name": "stdout",
     "output_type": "stream",
     "text": [
      "Social Networking  :  71548\n",
      "Photo & Video  :  28442\n",
      "Games  :  22789\n",
      "Music  :  57327\n",
      "Reference  :  74942\n",
      "Health & Fitness  :  23298\n",
      "Weather  :  52280\n",
      "Utilities  :  18684\n",
      "Travel  :  28244\n",
      "Shopping  :  26920\n",
      "News  :  21248\n",
      "Navigation  :  86090\n",
      "Lifestyle  :  16486\n",
      "Entertainment  :  14030\n",
      "Food & Drink  :  33334\n",
      "Sports  :  23009\n",
      "Book  :  39758\n",
      "Finance  :  31468\n",
      "Education  :  7004\n",
      "Productivity  :  21028\n",
      "Business  :  7491\n",
      "Catalogs  :  4004\n",
      "Medical  :  612\n"
     ]
    }
   ],
   "source": [
    "# We are going to calculate the average user rating  for each genre in Apple Store data set \n",
    "for key in freq_table(free_apple_apps,11):\n",
    "    total = 0\n",
    "    len_genre = 0\n",
    "    for i in free_apple_apps:\n",
    "        genre_app = i[11]\n",
    "        if genre_app == key:\n",
    "            num_rating = float(i[5])\n",
    "            total += num_rating\n",
    "            len_genre += 1\n",
    "    avg_user_rating = total / len_genre\n",
    "    print(key, \" : \", round(avg_user_rating))"
   ]
  },
  {
   "cell_type": "markdown",
   "metadata": {},
   "source": [
    "## Most Popular Genre Apps Available on  the Google Play Store\n",
    "\n",
    "For the Google Play market, we actually have data on the number of installs, so we should be able to get a clearer picture of the popularity of genres. However, install numbers don't seem accurate enough, we can see that most of the values are open-ended (100 +, 1,000 +, 5,000 +, etc.):"
   ]
  },
  {
   "cell_type": "code",
   "execution_count": 25,
   "metadata": {},
   "outputs": [
    {
     "name": "stdout",
     "output_type": "stream",
     "text": [
      "1,000,000+  :  15.73\n",
      "100,000+  :  11.55\n",
      "10,000,000+  :  10.55\n",
      "10,000+  :  10.2\n",
      "1,000+  :  8.39\n",
      "100+  :  6.92\n",
      "5,000,000+  :  6.83\n",
      "500,000+  :  5.56\n",
      "50,000+  :  4.77\n",
      "5,000+  :  4.51\n",
      "10+  :  3.54\n",
      "500+  :  3.25\n",
      "50,000,000+  :  2.3\n",
      "100,000,000+  :  2.13\n",
      "50+  :  1.92\n",
      "5+  :  0.79\n",
      "1+  :  0.51\n",
      "500,000,000+  :  0.27\n",
      "1,000,000,000+  :  0.23\n",
      "0+  :  0.05\n",
      "0  :  0.01\n"
     ]
    }
   ],
   "source": [
    "display_table(free_google_apps, 5) # the Installs column"
   ]
  },
  {
   "cell_type": "markdown",
   "metadata": {},
   "source": [
    "---\n",
    "\n",
    "One problem with the data is that it's not accurate. For example, we don't know if an app with 100,000 + installs has 100,000 installs, 200,000 or 350,000. However, we don't need very accurate data for our purposes; we just want to get an idea of which app genres most users are attracted to, and we don't need perfect precision with respect to the number of users. \n",
    "\n",
    "We're going to leave the number as it is, which means we're going to consider that an app with 100,000 + installs has 100,000 installs.\n",
    "\n",
    "However, in order to perform computations, we will need to convert each install number to float; this means that we need to remove commas and plus characters, otherwise the conversion will fail and cause an error. We'll do this in the coding cells below, where we'll also calculate the average number of installs for each genre(category).\n",
    "\n",
    "---"
   ]
  },
  {
   "cell_type": "code",
   "execution_count": 23,
   "metadata": {},
   "outputs": [
    {
     "data": {
      "text/plain": [
       "{'ART_AND_DESIGN': 0.64,\n",
       " 'AUTO_AND_VEHICLES': 0.93,\n",
       " 'BEAUTY': 0.6,\n",
       " 'BOOKS_AND_REFERENCE': 2.14,\n",
       " 'BUSINESS': 4.59,\n",
       " 'COMICS': 0.62,\n",
       " 'COMMUNICATION': 3.24,\n",
       " 'DATING': 1.86,\n",
       " 'EDUCATION': 1.16,\n",
       " 'ENTERTAINMENT': 0.96,\n",
       " 'EVENTS': 0.71,\n",
       " 'FINANCE': 3.7,\n",
       " 'FOOD_AND_DRINK': 1.24,\n",
       " 'HEALTH_AND_FITNESS': 3.08,\n",
       " 'HOUSE_AND_HOME': 0.82,\n",
       " 'LIBRARIES_AND_DEMO': 0.94,\n",
       " 'LIFESTYLE': 3.9,\n",
       " 'GAME': 9.72,\n",
       " 'FAMILY': 18.91,\n",
       " 'MEDICAL': 3.53,\n",
       " 'SOCIAL': 2.66,\n",
       " 'SHOPPING': 2.25,\n",
       " 'PHOTOGRAPHY': 2.94,\n",
       " 'SPORTS': 3.4,\n",
       " 'TRAVEL_AND_LOCAL': 2.34,\n",
       " 'TOOLS': 8.46,\n",
       " 'PERSONALIZATION': 3.32,\n",
       " 'PRODUCTIVITY': 3.89,\n",
       " 'PARENTING': 0.65,\n",
       " 'WEATHER': 0.8,\n",
       " 'VIDEO_PLAYERS': 1.79,\n",
       " 'NEWS_AND_MAGAZINES': 2.8,\n",
       " 'MAPS_AND_NAVIGATION': 1.4}"
      ]
     },
     "execution_count": 23,
     "metadata": {},
     "output_type": "execute_result"
    }
   ],
   "source": [
    "#We are going to look at the unique app genre in Google Play Store\n",
    "freq_table(free_google_apps,1)"
   ]
  },
  {
   "cell_type": "code",
   "execution_count": 24,
   "metadata": {
    "scrolled": true
   },
   "outputs": [
    {
     "name": "stdout",
     "output_type": "stream",
     "text": [
      "ART_AND_DESIGN  :  1986335\n",
      "AUTO_AND_VEHICLES  :  647318\n",
      "BEAUTY  :  513152\n",
      "BOOKS_AND_REFERENCE  :  8767812\n",
      "BUSINESS  :  1712290\n",
      "COMICS  :  817657\n",
      "COMMUNICATION  :  38456119\n",
      "DATING  :  854029\n",
      "EDUCATION  :  1833495\n",
      "ENTERTAINMENT  :  11640706\n",
      "EVENTS  :  253542\n",
      "FINANCE  :  1387692\n",
      "FOOD_AND_DRINK  :  1924898\n",
      "HEALTH_AND_FITNESS  :  4188822\n",
      "HOUSE_AND_HOME  :  1331541\n",
      "LIBRARIES_AND_DEMO  :  638504\n",
      "LIFESTYLE  :  1437816\n",
      "GAME  :  15588016\n",
      "FAMILY  :  3695642\n",
      "MEDICAL  :  120551\n",
      "SOCIAL  :  23253652\n",
      "SHOPPING  :  7036877\n",
      "PHOTOGRAPHY  :  17840110\n",
      "SPORTS  :  3638640\n",
      "TRAVEL_AND_LOCAL  :  13984078\n",
      "TOOLS  :  10801391\n",
      "PERSONALIZATION  :  5201483\n",
      "PRODUCTIVITY  :  16787331\n",
      "PARENTING  :  542604\n",
      "WEATHER  :  5074486\n",
      "VIDEO_PLAYERS  :  24727872\n",
      "NEWS_AND_MAGAZINES  :  9549178\n",
      "MAPS_AND_NAVIGATION  :  4056942\n"
     ]
    }
   ],
   "source": [
    "# We are going to calcualte the average number of installs per app genre for the Google Play data set.\n",
    "for key in freq_table(free_google_apps,1):\n",
    "    total = 0\n",
    "    len_category = 0\n",
    "    for i in free_google_apps:\n",
    "        category_app = i[1]\n",
    "        if category_app == key:\n",
    "            installs = i[5]\n",
    "            installs = installs.replace('+','')\n",
    "            installs = installs.replace(',','')\n",
    "            installs = float(installs)\n",
    "            total += installs\n",
    "            len_category += 1\n",
    "    avg_num_installs = total / len_category\n",
    "    print(key, ' : ', round(avg_num_installs))"
   ]
  },
  {
   "cell_type": "markdown",
   "metadata": {},
   "source": [
    "## Conclusions\n",
    "\n",
    "In this project, we analyzed data on the Apple Store and the Google Play Store mobile apps with the aim of recommending an app profile that could be profitable for both markets.\n",
    "\n",
    "\n",
    "We concluded that the a social and networking app could be profitable for both the Google Play and the Apple Store markets. The market is not over-saturated with social networking apps and only a few major apps, such as Facebook, Tinder, Whatsapp, Twitter and Snapchat, have high traction. These apps have their own special features so we could look at having a unique twist while still having the ability to do everything the other apps do with increased gamification."
   ]
  }
 ],
 "metadata": {
  "kernelspec": {
   "display_name": "Python 3",
   "language": "python",
   "name": "python3"
  },
  "language_info": {
   "codemirror_mode": {
    "name": "ipython",
    "version": 3
   },
   "file_extension": ".py",
   "mimetype": "text/x-python",
   "name": "python",
   "nbconvert_exporter": "python",
   "pygments_lexer": "ipython3",
   "version": "3.7.3"
  }
 },
 "nbformat": 4,
 "nbformat_minor": 2
}
