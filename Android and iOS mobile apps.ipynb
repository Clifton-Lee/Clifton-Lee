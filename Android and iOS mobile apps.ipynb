{
 "cells": [
  {
   "cell_type": "markdown",
   "id": "7987638e",
   "metadata": {},
   "source": [
    "# Profitable Apps on Google Play and the Apple App Store\n",
    "---\n",
    "\n",
    "## Background \n",
    "\n",
    "For the sake of this project, I'll pretend to be a data analyst for a company that develops Android and iOS mobile applications. Our apps may be found on Google Play as well as the Apple App Store.\n",
    "\n",
    "As a company, we only develop apps that are free to download and install, and in-app advertising is our main source of revenue. In other words, the number of individuals who see and engage with our apps has an impact on the amount of money we make from each app - the greater the number of users who see and interact with the ads, the better. The goal of this project is to do data analysis in order to help our developers in identifying which kinds of apps are most likely to attract more users in the future."
   ]
  },
  {
   "cell_type": "markdown",
   "id": "4f0264b3",
   "metadata": {},
   "source": [
    "## Data Understanding\n",
    "\n",
    "As of September 2018, there were roughly 2 million iOS applications accessible on the Apple App Store and 2.1 million Android apps available on Google Play.\n",
    "Collecting data for over four million applications takes considerable alot of time and money, therefore I'll attempt to examine a sample of data instead. To avoid spending money on collecting new data, I first checked to see whether there were any relevant existing data that could be acquired for free. Fortunately, two datasets seem to be suitable for my purposes:\n",
    "\n",
    "* A dataset providing information on roughly 10,000 Android apps obtained from Google Play in August 2018. You may directly download the data set from this [URL.](https://raw.githubusercontent.com/Clifton-Lee/Clifton-Lee/master/googleplaystore.csv)\n",
    "\n",
    "* A dataset providing information on roughly 7,000 iOS apps obtained from the Apple App Store in July 2017. You may directly download the data set from this [URL.](https://github.com/Clifton-Lee/Clifton-Lee/blob/master/AppleStore.csv)"
   ]
  },
  {
   "cell_type": "markdown",
   "id": "05619cd1",
   "metadata": {},
   "source": [
    "### Open and Explore the data\n",
    "\n",
    "I'll begin by accessing the two datasets listed above and explore each of them. "
   ]
  },
  {
   "cell_type": "code",
   "execution_count": 1,
   "id": "9100ba08",
   "metadata": {},
   "outputs": [],
   "source": [
    "# Open Apple App Store dataset as a list of list \n",
    "from csv import reader \n",
    "opened_apple_data = open('Applestore.csv',encoding = 'utf8')\n",
    "read_apple_data = reader(opened_apple_data)\n",
    "apple_data = list(read_apple_data) \n",
    "\n",
    "#open Google Play dataset as a list of list \n",
    "opened_google_data = open('googleplaystore.csv', encoding = 'utf8')\n",
    "read_google_data = reader(opened_google_data)\n",
    "google_data = list(read_google_data)\n"
   ]
  },
  {
   "cell_type": "markdown",
   "id": "5ed0d433",
   "metadata": {},
   "source": [
    "To make it simpler to examine the dataset shown above, I wrote a function called `explore_data()` that would be used to display rows in a readable format frequently."
   ]
  },
  {
   "cell_type": "code",
   "execution_count": 2,
   "id": "a5a7c9ec",
   "metadata": {},
   "outputs": [],
   "source": [
    "def explore_data(dataset, start, end, rows_and_columns=False):\n",
    "    dataset_slice = dataset[start:end]    \n",
    "    for row in dataset_slice:\n",
    "        print(row)\n",
    "        print('\\n') # adds a new (empty) line after each row\n",
    "\n",
    "    if rows_and_columns:\n",
    "        print('Number of rows:', len(dataset))\n",
    "        print('Number of columns:', len(dataset[0]))"
   ]
  },
  {
   "cell_type": "markdown",
   "id": "b4d3a103",
   "metadata": {},
   "source": [
    "First few rows of Apple Apps dataset:"
   ]
  },
  {
   "cell_type": "code",
   "execution_count": 3,
   "id": "67efaaf7",
   "metadata": {
    "scrolled": true
   },
   "outputs": [
    {
     "name": "stdout",
     "output_type": "stream",
     "text": [
      "['id', 'track_name', 'size_bytes', 'currency', 'price', 'rating_count_tot', 'rating_count_ver', 'user_rating', 'user_rating_ver', 'ver', 'cont_rating', 'prime_genre', 'sup_devices.num', 'ipadSc_urls.num', 'lang.num', 'vpp_lic']\n"
     ]
    }
   ],
   "source": [
    "# Header row\n",
    "print(apple_data[0])"
   ]
  },
  {
   "cell_type": "code",
   "execution_count": 4,
   "id": "149f6a6f",
   "metadata": {
    "scrolled": true
   },
   "outputs": [
    {
     "name": "stdout",
     "output_type": "stream",
     "text": [
      "['284882215', 'Facebook', '389879808', 'USD', '0.0', '2974676', '212', '3.5', '3.5', '95.0', '4+', 'Social Networking', '37', '1', '29', '1']\n",
      "\n",
      "\n",
      "['389801252', 'Instagram', '113954816', 'USD', '0.0', '2161558', '1289', '4.5', '4.0', '10.23', '12+', 'Photo & Video', '37', '0', '29', '1']\n",
      "\n",
      "\n",
      "['529479190', 'Clash of Clans', '116476928', 'USD', '0.0', '2130805', '579', '4.5', '4.5', '9.24.12', '9+', 'Games', '38', '5', '18', '1']\n",
      "\n",
      "\n",
      "Number of rows: 7197\n",
      "Number of columns: 16\n"
     ]
    }
   ],
   "source": [
    "explore_data(apple_data[1:],0,3,True)"
   ]
  },
  {
   "cell_type": "markdown",
   "id": "c95b3e8b",
   "metadata": {},
   "source": [
    "This dataset contains 7197 iOS applications, with the following fields of interest: `track name`, `currency`, `price`, `rating count tot`, `rating count ver`, and `prime genre`. In this instance, not all column names are self-explanatory, but information about each column can be found in the dataset [documentation.](https://www.kaggle.com/ramamet4/app-store-apple-data-set-10k-apps/home)"
   ]
  },
  {
   "cell_type": "markdown",
   "id": "879a3aea",
   "metadata": {},
   "source": [
    "First few rows of Google Play dataset:"
   ]
  },
  {
   "cell_type": "code",
   "execution_count": 5,
   "id": "e8747765",
   "metadata": {
    "scrolled": true
   },
   "outputs": [
    {
     "name": "stdout",
     "output_type": "stream",
     "text": [
      "['App', 'Category', 'Rating', 'Reviews', 'Size', 'Installs', 'Type', 'Price', 'Content Rating', 'Genres', 'Last Updated', 'Current Ver', 'Android Ver']\n"
     ]
    }
   ],
   "source": [
    "# Header row\n",
    "print(google_data[0])"
   ]
  },
  {
   "cell_type": "code",
   "execution_count": 6,
   "id": "b29ed5cb",
   "metadata": {
    "scrolled": true
   },
   "outputs": [
    {
     "name": "stdout",
     "output_type": "stream",
     "text": [
      "['Photo Editor & Candy Camera & Grid & ScrapBook', 'ART_AND_DESIGN', '4.1', '159', '19M', '10,000+', 'Free', '0', 'Everyone', 'Art & Design', 'January 7, 2018', '1.0.0', '4.0.3 and up']\n",
      "\n",
      "\n",
      "['Coloring book moana', 'ART_AND_DESIGN', '3.9', '967', '14M', '500,000+', 'Free', '0', 'Everyone', 'Art & Design;Pretend Play', 'January 15, 2018', '2.0.0', '4.0.3 and up']\n",
      "\n",
      "\n",
      "['U Launcher Lite – FREE Live Cool Themes, Hide Apps', 'ART_AND_DESIGN', '4.7', '87510', '8.7M', '5,000,000+', 'Free', '0', 'Everyone', 'Art & Design', 'August 1, 2018', '1.2.4', '4.0.3 and up']\n",
      "\n",
      "\n",
      "Number of rows: 10841\n",
      "Number of columns: 13\n"
     ]
    }
   ],
   "source": [
    "explore_data(google_data[1:],0,3,True)"
   ]
  },
  {
   "cell_type": "markdown",
   "id": "e1dc270c",
   "metadata": {},
   "source": [
    "The Google Play data collection contains 10841 applications and 13 columns. At a glance, the columns that may be helpful for my study are `App`, `Category`, `Reviews`, `Installs`, `Type`, `Price`, and `Genres`. Information about each column can be found in the dataset [documentation.](https://www.kaggle.com/lava18/google-play-store-apps)"
   ]
  },
  {
   "cell_type": "markdown",
   "id": "2a3d423f",
   "metadata": {},
   "source": [
    "## Data Preparation\n",
    "\n",
    "Before I begin my analysis, I must ensure that the data I am analyzing is correct, otherwise the findings of my analysis will be incorrect. This implies I'll have to perform the following:\n",
    "\n",
    "- Identify incorrect data and fix or delete it.\n",
    "- Identify and delete duplicate data.\n",
    "\n",
    "Remember that my company only create applications that are free to download and install, and they only develop them for an English-speaking audience. That implies I'll have to perform the following:\n",
    "\n",
    "- Remove any applications that are not in English.\n",
    "- Uninstall any applications that aren't free."
   ]
  },
  {
   "cell_type": "markdown",
   "id": "e431ce06",
   "metadata": {},
   "source": [
    "### Remove Incorrect Data Entry "
   ]
  },
  {
   "cell_type": "markdown",
   "id": "09d592bc",
   "metadata": {},
   "source": [
    "I notice that the Google Play dataset has a dedicated [discussion area](https://www.kaggle.com/lava18/google-play-store-apps/discussion), and one of the conversations explains an error for a specific row (row 10472). \n",
    "\n",
    "I'll now check to see whether they're accurate and make any required adjustments to the dataset. Taking into account the user reporting the error might or might have not removed the header row, so the index number might vary."
   ]
  },
  {
   "cell_type": "code",
   "execution_count": 7,
   "id": "a3153966",
   "metadata": {},
   "outputs": [
    {
     "name": "stdout",
     "output_type": "stream",
     "text": [
      "['App', 'Category', 'Rating', 'Reviews', 'Size', 'Installs', 'Type', 'Price', 'Content Rating', 'Genres', 'Last Updated', 'Current Ver', 'Android Ver']\n",
      "\n",
      "['Jazz Wi-Fi', 'COMMUNICATION', '3.4', '49', '4.0M', '10,000+', 'Free', '0', 'Everyone', 'Communication', 'February 10, 2017', '0.1', '2.3 and up']\n",
      "\n",
      "\n",
      "['Xposed Wi-Fi-Pwd', 'PERSONALIZATION', '3.5', '1042', '404k', '100,000+', 'Free', '0', 'Everyone', 'Personalization', 'August 5, 2014', '3.0.0', '4.0.3 and up']\n",
      "\n",
      "\n",
      "['Life Made WI-Fi Touchscreen Photo Frame', '1.9', '19', '3.0M', '1,000+', 'Free', '0', 'Everyone', '', 'February 11, 2018', '1.0.19', '4.0 and up']\n",
      "\n",
      "\n"
     ]
    }
   ],
   "source": [
    "print(google_data[0],end = '\\n\\n') # print the column names\n",
    "explore_data(google_data,10471,10474) # print rows 10471 to 10473 in order to identify the error "
   ]
  },
  {
   "cell_type": "markdown",
   "id": "c108825c",
   "metadata": {},
   "source": [
    "After investigating, I discovered the mistake and which row it occurred on. Because the user who reported did not include the header row in his count, the mistake is really on row 10473 in my data. Seeing that this is an error I'm going to delete the row. "
   ]
  },
  {
   "cell_type": "code",
   "execution_count": 8,
   "id": "9a10c35f",
   "metadata": {},
   "outputs": [],
   "source": [
    "del google_data[10473] "
   ]
  },
  {
   "cell_type": "markdown",
   "id": "450dab0b",
   "metadata": {},
   "source": [
    "There were no observations in the Apple App Store [discussion](https://www.kaggle.com/ramamet4/app-store-apple-data-set-10k-apps/discussion) area regarding incorrect data for Apple Apps, hence I will continue as normal for now. "
   ]
  },
  {
   "cell_type": "markdown",
   "id": "f3351d41",
   "metadata": {},
   "source": [
    "### Remove Duplicates\n",
    "\n",
    "\n",
    "#### Google Play Store"
   ]
  },
  {
   "cell_type": "markdown",
   "id": "6490205a",
   "metadata": {},
   "source": [
    "In the preceding step, I began the data cleaning process by deleting a row from the Google Play dataset that included erroneous data. I went through the Google Play data set and the comments area, and I noticed that several applications had duplicate listings. Instagram, for example, has four entries:"
   ]
  },
  {
   "cell_type": "code",
   "execution_count": 9,
   "id": "75883656",
   "metadata": {
    "scrolled": true
   },
   "outputs": [
    {
     "name": "stdout",
     "output_type": "stream",
     "text": [
      "['Instagram', 'SOCIAL', '4.5', '66577313', 'Varies with device', '1,000,000,000+', 'Free', '0', 'Teen', 'Social', 'July 31, 2018', 'Varies with device', 'Varies with device']\n",
      "\n",
      "['Instagram', 'SOCIAL', '4.5', '66577446', 'Varies with device', '1,000,000,000+', 'Free', '0', 'Teen', 'Social', 'July 31, 2018', 'Varies with device', 'Varies with device']\n",
      "\n",
      "['Instagram', 'SOCIAL', '4.5', '66577313', 'Varies with device', '1,000,000,000+', 'Free', '0', 'Teen', 'Social', 'July 31, 2018', 'Varies with device', 'Varies with device']\n",
      "\n",
      "['Instagram', 'SOCIAL', '4.5', '66509917', 'Varies with device', '1,000,000,000+', 'Free', '0', 'Teen', 'Social', 'July 31, 2018', 'Varies with device', 'Varies with device']\n",
      "\n"
     ]
    }
   ],
   "source": [
    "for app in google_data[1:]:\n",
    "    name = app[0]\n",
    "    if name == 'Instagram':\n",
    "        print(app, end = '\\n\\n')"
   ]
  },
  {
   "cell_type": "markdown",
   "id": "a045f52e",
   "metadata": {},
   "source": [
    "When I examine the data, I don't want to count specific applications more than once, therefore I need to eliminate the redundant entries and retain just one record per app. In order to do so I will first need to identify all the duplicate applications:"
   ]
  },
  {
   "cell_type": "code",
   "execution_count": 10,
   "id": "863817f9",
   "metadata": {},
   "outputs": [
    {
     "name": "stdout",
     "output_type": "stream",
     "text": [
      "Number of duplicate apps:  1181\n",
      "\n",
      "Example of duplicate apps:  ['Quick PDF Scanner + OCR FREE', 'Box', 'Google My Business', 'ZOOM Cloud Meetings', 'join.me - Simple Meetings']\n"
     ]
    }
   ],
   "source": [
    "duplicate_apps = []\n",
    "unique_apps = []\n",
    "\n",
    "for app in google_data[1:]:\n",
    "    name = app[0]\n",
    "    if name in unique_apps:\n",
    "        duplicate_apps.append(name)\n",
    "    else:\n",
    "        unique_apps.append(name)\n",
    "        \n",
    "print('Number of duplicate apps: ', len(duplicate_apps), end= '\\n\\n')\n",
    "print('Example of duplicate apps: ', duplicate_apps[:5])"
   ]
  },
  {
   "cell_type": "markdown",
   "id": "fafef206",
   "metadata": {},
   "source": [
    "As an alternative to eliminating duplicates on a random basis, I'll only retain the row with the greatest number of ratings for each particular app and delete the other entries for that app. "
   ]
  },
  {
   "cell_type": "markdown",
   "id": "62ae3ab8",
   "metadata": {},
   "source": [
    "In the previous step, I looped through the Google Play dataset and found that there are 1,181 duplicates. After I remove the duplicates, I should be left with 9,659 rows:"
   ]
  },
  {
   "cell_type": "code",
   "execution_count": 11,
   "id": "ac3ee989",
   "metadata": {},
   "outputs": [
    {
     "name": "stdout",
     "output_type": "stream",
     "text": [
      "Expected length:  9659\n"
     ]
    }
   ],
   "source": [
    "print('Expected length: ', len(google_data[1:]) - 1181)"
   ]
  },
  {
   "cell_type": "markdown",
   "id": "8225b33d",
   "metadata": {},
   "source": [
    "To remove the duplicates, I will do the following:\n",
    "\n",
    "* Create a dictionary, where each dictionary key is a unique app name and the corresponding dictionary value is the highest number of reviews of that app.\n",
    "* Use the information stored in the dictionary and create a new dataset, which will have only one entry per app (and for each app, I'll only select the entry with the highest number of reviews)."
   ]
  },
  {
   "cell_type": "code",
   "execution_count": 12,
   "id": "c6f33dd7",
   "metadata": {},
   "outputs": [
    {
     "name": "stdout",
     "output_type": "stream",
     "text": [
      "['App', 'Category', 'Rating', 'Reviews', 'Size', 'Installs', 'Type', 'Price', 'Content Rating', 'Genres', 'Last Updated', 'Current Ver', 'Android Ver']\n"
     ]
    }
   ],
   "source": [
    "# Recall the column names and the position \n",
    "print(google_data[0])"
   ]
  },
  {
   "cell_type": "code",
   "execution_count": 13,
   "id": "2792acde",
   "metadata": {},
   "outputs": [
    {
     "name": "stdout",
     "output_type": "stream",
     "text": [
      "Highest Instagram reviews are:  66577446.0\n",
      "\n",
      "The Length is:  9659\n"
     ]
    }
   ],
   "source": [
    "reviews_max = {}\n",
    "for app in google_data[1:]:\n",
    "    name = app[0]\n",
    "    n_reviews = float(app[3])\n",
    "    if (name in reviews_max) and (reviews_max[name] < n_reviews):\n",
    "        reviews_max[name] = n_reviews\n",
    "    elif name not in reviews_max:\n",
    "        reviews_max[name] = n_reviews\n",
    "        \n",
    "#check if it stored the correct instagram app, the reviews count should be '66577446'        \n",
    "print('Highest Instagram reviews are: ', reviews_max['Instagram'], end = '\\n\\n') \n",
    "print('The Length is: ',len(reviews_max))"
   ]
  },
  {
   "cell_type": "markdown",
   "id": "35ce4ac8",
   "metadata": {},
   "source": [
    "Everything seem to be in order, I will now use the dictionary created above to remove the duplicate rows"
   ]
  },
  {
   "cell_type": "code",
   "execution_count": 14,
   "id": "6118e80b",
   "metadata": {},
   "outputs": [
    {
     "name": "stdout",
     "output_type": "stream",
     "text": [
      "['Photo Editor & Candy Camera & Grid & ScrapBook', 'ART_AND_DESIGN', '4.1', '159', '19M', '10,000+', 'Free', '0', 'Everyone', 'Art & Design', 'January 7, 2018', '1.0.0', '4.0.3 and up']\n",
      "\n",
      "\n",
      "['U Launcher Lite – FREE Live Cool Themes, Hide Apps', 'ART_AND_DESIGN', '4.7', '87510', '8.7M', '5,000,000+', 'Free', '0', 'Everyone', 'Art & Design', 'August 1, 2018', '1.2.4', '4.0.3 and up']\n",
      "\n",
      "\n",
      "['Sketch - Draw & Paint', 'ART_AND_DESIGN', '4.5', '215644', '25M', '50,000,000+', 'Free', '0', 'Teen', 'Art & Design', 'June 8, 2018', 'Varies with device', '4.2 and up']\n",
      "\n",
      "\n",
      "Number of rows: 9659\n",
      "Number of columns: 13\n"
     ]
    }
   ],
   "source": [
    "android_clean = []\n",
    "already_added = []\n",
    "\n",
    "for app in google_data[1:]:\n",
    "    name = app[0]\n",
    "    n_reviews = float(app[3])\n",
    "    if (n_reviews == reviews_max[name]) and (name not in already_added):\n",
    "        android_clean.append(app)\n",
    "        already_added.append(name)\n",
    "\n",
    "\n",
    "explore_data(android_clean,0,3,True)"
   ]
  },
  {
   "cell_type": "markdown",
   "id": "ae05f193",
   "metadata": {},
   "source": [
    "#### Apple App Store\n",
    "\n",
    "In the previous step, I managed to remove the duplicate app entries in the Google Play dataset. I will check if I have to do the same for the Apple App dataset."
   ]
  },
  {
   "cell_type": "code",
   "execution_count": 15,
   "id": "3cff3404",
   "metadata": {},
   "outputs": [
    {
     "name": "stdout",
     "output_type": "stream",
     "text": [
      "Number of duplicate apps:  0\n",
      "\n",
      "Example of duplicate apps:  []\n"
     ]
    }
   ],
   "source": [
    "duplicate_apps = []\n",
    "unique_apps = []\n",
    "\n",
    "for app in apple_data[1:]:\n",
    "    id = app[0]\n",
    "    if name in unique_apps:\n",
    "        duplicate_apps.append(id)\n",
    "    else:\n",
    "        unique_apps.append(id)\n",
    "        \n",
    "print('Number of duplicate apps: ', len(duplicate_apps), end= '\\n\\n')\n",
    "print('Example of duplicate apps: ', duplicate_apps[:5])"
   ]
  },
  {
   "cell_type": "markdown",
   "id": "ff1298a7",
   "metadata": {},
   "source": [
    "I don't need to do the same for the Apple App Store data because there are no duplicates — I checked using the id column (not the track_name column) because the id column is the primary key of the dataset. "
   ]
  },
  {
   "cell_type": "markdown",
   "id": "70cd28da",
   "metadata": {},
   "source": [
    "### Remove Non-English Apps"
   ]
  },
  {
   "cell_type": "markdown",
   "id": "6c2e2207",
   "metadata": {},
   "source": [
    "Remember that my company create applications in English, and I'd want to evaluate only apps that are intended for an English-speaking audience. However, when I looked deep into the data, I discovered that both datasets include applications with names that indicate they're not intended for an English-speaking audience."
   ]
  },
  {
   "cell_type": "code",
   "execution_count": 16,
   "id": "43b48d07",
   "metadata": {},
   "outputs": [
    {
     "name": "stdout",
     "output_type": "stream",
     "text": [
      "爱奇艺PPS -《欢乐颂2》电视剧热播\n",
      "【脱出ゲーム】絶対に最後までプレイしないで 〜謎解き＆ブロックパズル〜\n"
     ]
    }
   ],
   "source": [
    "print(apple_data[814][1])\n",
    "print(apple_data[6732][1])"
   ]
  },
  {
   "cell_type": "markdown",
   "id": "7d1990ef",
   "metadata": {},
   "source": [
    "I am not interested in keeping these apps, so I'll remove them. One way to do this is to remove each app with a name containing a symbol that isn't commonly used in English text — English text usually includes letters from the English alphabet, numbers composed of digits from 0 to 9, punctuation marks (., !, ?, ;), and other symbols (+, *, /)."
   ]
  },
  {
   "cell_type": "code",
   "execution_count": 17,
   "id": "48a77262",
   "metadata": {},
   "outputs": [],
   "source": [
    "def is_english(string):\n",
    "    '''This function identifies if a string is english or not using the ASCII standard. '''\n",
    "    characters = []\n",
    "    for letter in string:\n",
    "        if ord(letter) > 127:\n",
    "            characters.append(letter)\n",
    "    \n",
    "    return len(characters) <= 3"
   ]
  },
  {
   "cell_type": "markdown",
   "id": "5b042650",
   "metadata": {},
   "source": [
    "Examples of the function results:"
   ]
  },
  {
   "cell_type": "code",
   "execution_count": 18,
   "id": "4eb5996b",
   "metadata": {},
   "outputs": [
    {
     "name": "stdout",
     "output_type": "stream",
     "text": [
      "True\n",
      "False\n",
      "True\n",
      "True\n"
     ]
    }
   ],
   "source": [
    "print(is_english('Instagram'))\n",
    "print(is_english('爱奇艺PPS -《欢乐颂2》电视剧热播'))\n",
    "print(is_english('Docs To Go™ Free Office Suite'))\n",
    "print(is_english('Instachat 😜'))"
   ]
  },
  {
   "cell_type": "markdown",
   "id": "8c3cc28c",
   "metadata": {},
   "source": [
    "Now that I know my function works quite well, I'll apply it to both datasets and filter out non-English applications."
   ]
  },
  {
   "cell_type": "code",
   "execution_count": 19,
   "id": "7afefa6f",
   "metadata": {},
   "outputs": [
    {
     "name": "stdout",
     "output_type": "stream",
     "text": [
      "The number of English Apple apps are:  6183\n",
      "The number of English Google apps are:  9614\n"
     ]
    }
   ],
   "source": [
    "clean_apple_data =[]\n",
    "for app in apple_data[1:]:\n",
    "    if is_english(app[1]):\n",
    "        clean_apple_data.append(app)\n",
    "        \n",
    "clean_google_data = []\n",
    "for app in android_clean:\n",
    "    if is_english(app[0]):\n",
    "        clean_google_data.append(app)\n",
    "        \n",
    "print('The number of English Apple apps are: ',len(clean_apple_data))\n",
    "print('The number of English Google apps are: ',len(clean_google_data))"
   ]
  },
  {
   "cell_type": "markdown",
   "id": "b33ca112",
   "metadata": {},
   "source": [
    "So far in the data cleaning process, I've done the following:\n",
    "\n",
    "- Removed inaccurate data\n",
    "- Removed duplicate app entries\n",
    "- Removed non-English apps\n",
    "\n",
    "As I mentioned in the introduction, we only build apps that are free to download and install, and our main source of revenue consists of in-app ads. My datasets contain both free and non-free apps; I'll need to isolate only the free apps for my analysis.\n",
    "\n",
    "Isolating the free apps will be my last step in the data cleaning process. "
   ]
  },
  {
   "cell_type": "markdown",
   "id": "0910dbee",
   "metadata": {},
   "source": [
    "### Isolate the Free Apps"
   ]
  },
  {
   "cell_type": "code",
   "execution_count": 20,
   "id": "de0b2c6e",
   "metadata": {},
   "outputs": [
    {
     "name": "stdout",
     "output_type": "stream",
     "text": [
      "The number of Free English Apple apps are:  3222\n",
      "The number of Free English Google apps are:  8864\n"
     ]
    }
   ],
   "source": [
    "free_apple_apps = []\n",
    "for app in clean_apple_data:\n",
    "    price = float(app[4])\n",
    "    if price == 0:\n",
    "        free_apple_apps.append(app)\n",
    "        \n",
    "free_google_apps = []\n",
    "for app in clean_google_data:\n",
    "    if '$' in app[7]:\n",
    "        price = float(app[7].replace('$',''))\n",
    "    else:\n",
    "        price = float(app[7])\n",
    "    if price == 0:\n",
    "        free_google_apps.append(app)\n",
    "        \n",
    "print('The number of Free English Apple apps are: ',len(free_apple_apps))\n",
    "print('The number of Free English Google apps are: ',len(free_google_apps))"
   ]
  },
  {
   "cell_type": "markdown",
   "id": "243a48d1",
   "metadata": {},
   "source": [
    "## Data Analysis\n",
    "\n",
    "To minimize risks and overhead, our validation strategy for an app idea has three steps:\n",
    "\n",
    "1. Build a minimal Android version of the app, and add it to Google Play.\n",
    "2. If the app has a good response from users, we develop it further.\n",
    "3. If the app is profitable after six months, we build an iOS version of the app and add it to the Apple App Store.\n",
    "\n",
    "Because our end goal is to add the app on both Google Play and the Apple App Store, I need to find app profiles that are successful in both markets. For instance, a profile that works well for both markets might be a productivity app that makes use of gamification.\n",
    "\n",
    "I'll begin the analysis by determining the most common genres for each market. For this, I'll need to build frequency tables for a few columns in my datasets."
   ]
  },
  {
   "cell_type": "code",
   "execution_count": 21,
   "id": "6a6a5407",
   "metadata": {},
   "outputs": [
    {
     "name": "stdout",
     "output_type": "stream",
     "text": [
      "Remember the column headers are:\n",
      "\n",
      "Apple Apps Data Columns:\n",
      "['id', 'track_name', 'size_bytes', 'currency', 'price', 'rating_count_tot', 'rating_count_ver', 'user_rating', 'user_rating_ver', 'ver', 'cont_rating', 'prime_genre', 'sup_devices.num', 'ipadSc_urls.num', 'lang.num', 'vpp_lic']\n",
      "\n",
      "Google Apps Data Columns:\n",
      "['App', 'Category', 'Rating', 'Reviews', 'Size', 'Installs', 'Type', 'Price', 'Content Rating', 'Genres', 'Last Updated', 'Current Ver', 'Android Ver']\n"
     ]
    }
   ],
   "source": [
    "print('Remember the column headers are:', end = '\\n\\n')\n",
    "print('Apple Apps Data Columns:')\n",
    "print(apple_data[0],end = '\\n\\n')\n",
    "print('Google Apps Data Columns:')\n",
    "print(google_data[0])"
   ]
  },
  {
   "cell_type": "markdown",
   "id": "1098fb04",
   "metadata": {},
   "source": [
    "Based on the columns in both datasets, I'll need to create a frequency table for the Apple App Store dataset's `prime_genre` column and the Google Play dataset's `Genres` and `Category` columns.\n",
    "\n",
    "I'll create two functions to help me examine the frequency tables:\n",
    "\n",
    "- One function for creating frequency tables with percentages.\n",
    "- Also another function to show the percentages in decreasing order.\n"
   ]
  },
  {
   "cell_type": "code",
   "execution_count": 22,
   "id": "af8bc59d",
   "metadata": {},
   "outputs": [],
   "source": [
    "def freq_table(dataset,index):\n",
    "    ''' This function creates a frequency table from a list of list without headers'''\n",
    "    table = {}\n",
    "    # creates the frequency of each item in the column.\n",
    "    for row in dataset:\n",
    "        key = row[index]\n",
    "        if key in table:\n",
    "            table[key] += 1\n",
    "        else:\n",
    "            table[key] = 1 \n",
    "    # converts the numbers of each item into percentages of total. \n",
    "    for item in table:\n",
    "        table[item] = round((table[item] / len(dataset)) * 100,2)\n",
    "        \n",
    "    return table\n",
    "    "
   ]
  },
  {
   "cell_type": "code",
   "execution_count": 23,
   "id": "ce8929a1",
   "metadata": {},
   "outputs": [],
   "source": [
    "def display_table(dataset, index):\n",
    "    table = freq_table(dataset, index)\n",
    "    table_display = []\n",
    "    for key in table:\n",
    "        key_val_as_tuple = (table[key], key)\n",
    "        table_display.append(key_val_as_tuple)\n",
    "\n",
    "    table_sorted = sorted(table_display, reverse = True)\n",
    "    for entry in table_sorted:\n",
    "        print(entry[1], ':', entry[0])"
   ]
  },
  {
   "cell_type": "markdown",
   "id": "49dd28b6",
   "metadata": {},
   "source": [
    "Now I'll use the `display_table` function to show the frequency table of the columns `prime_genre`, `Genres`, and `Category`."
   ]
  },
  {
   "cell_type": "code",
   "execution_count": 24,
   "id": "54e57f57",
   "metadata": {},
   "outputs": [
    {
     "name": "stdout",
     "output_type": "stream",
     "text": [
      "Games : 58.16\n",
      "Entertainment : 7.88\n",
      "Photo & Video : 4.97\n",
      "Education : 3.66\n",
      "Social Networking : 3.29\n",
      "Shopping : 2.61\n",
      "Utilities : 2.51\n",
      "Sports : 2.14\n",
      "Music : 2.05\n",
      "Health & Fitness : 2.02\n",
      "Productivity : 1.74\n",
      "Lifestyle : 1.58\n",
      "News : 1.33\n",
      "Travel : 1.24\n",
      "Finance : 1.12\n",
      "Weather : 0.87\n",
      "Food & Drink : 0.81\n",
      "Reference : 0.56\n",
      "Business : 0.53\n",
      "Book : 0.43\n",
      "Navigation : 0.19\n",
      "Medical : 0.19\n",
      "Catalogs : 0.12\n"
     ]
    }
   ],
   "source": [
    "display_table(free_apple_apps,11) #prime_genre column in the Apple App dataset"
   ]
  },
  {
   "cell_type": "code",
   "execution_count": 25,
   "id": "8b38dd74",
   "metadata": {},
   "outputs": [
    {
     "name": "stdout",
     "output_type": "stream",
     "text": [
      "Tools : 8.45\n",
      "Entertainment : 6.07\n",
      "Education : 5.35\n",
      "Business : 4.59\n",
      "Productivity : 3.89\n",
      "Lifestyle : 3.89\n",
      "Finance : 3.7\n",
      "Medical : 3.53\n",
      "Sports : 3.46\n",
      "Personalization : 3.32\n",
      "Communication : 3.24\n",
      "Action : 3.1\n",
      "Health & Fitness : 3.08\n",
      "Photography : 2.94\n",
      "News & Magazines : 2.8\n",
      "Social : 2.66\n",
      "Travel & Local : 2.32\n",
      "Shopping : 2.25\n",
      "Books & Reference : 2.14\n",
      "Simulation : 2.04\n",
      "Dating : 1.86\n",
      "Arcade : 1.85\n",
      "Video Players & Editors : 1.77\n",
      "Casual : 1.76\n",
      "Maps & Navigation : 1.4\n",
      "Food & Drink : 1.24\n",
      "Puzzle : 1.13\n",
      "Racing : 0.99\n",
      "Role Playing : 0.94\n",
      "Libraries & Demo : 0.94\n",
      "Auto & Vehicles : 0.93\n",
      "Strategy : 0.91\n",
      "House & Home : 0.82\n",
      "Weather : 0.8\n",
      "Events : 0.71\n",
      "Adventure : 0.68\n",
      "Comics : 0.61\n",
      "Beauty : 0.6\n",
      "Art & Design : 0.6\n",
      "Parenting : 0.5\n",
      "Card : 0.45\n",
      "Casino : 0.43\n",
      "Trivia : 0.42\n",
      "Educational;Education : 0.39\n",
      "Board : 0.38\n",
      "Educational : 0.37\n",
      "Education;Education : 0.34\n",
      "Word : 0.26\n",
      "Casual;Pretend Play : 0.24\n",
      "Music : 0.2\n",
      "Racing;Action & Adventure : 0.17\n",
      "Puzzle;Brain Games : 0.17\n",
      "Entertainment;Music & Video : 0.17\n",
      "Casual;Brain Games : 0.14\n",
      "Casual;Action & Adventure : 0.14\n",
      "Arcade;Action & Adventure : 0.12\n",
      "Action;Action & Adventure : 0.1\n",
      "Educational;Pretend Play : 0.09\n",
      "Simulation;Action & Adventure : 0.08\n",
      "Parenting;Education : 0.08\n",
      "Entertainment;Brain Games : 0.08\n",
      "Board;Brain Games : 0.08\n",
      "Parenting;Music & Video : 0.07\n",
      "Educational;Brain Games : 0.07\n",
      "Casual;Creativity : 0.07\n",
      "Art & Design;Creativity : 0.07\n",
      "Education;Pretend Play : 0.06\n",
      "Role Playing;Pretend Play : 0.05\n",
      "Education;Creativity : 0.05\n",
      "Role Playing;Action & Adventure : 0.03\n",
      "Puzzle;Action & Adventure : 0.03\n",
      "Entertainment;Creativity : 0.03\n",
      "Entertainment;Action & Adventure : 0.03\n",
      "Educational;Creativity : 0.03\n",
      "Educational;Action & Adventure : 0.03\n",
      "Education;Music & Video : 0.03\n",
      "Education;Brain Games : 0.03\n",
      "Education;Action & Adventure : 0.03\n",
      "Adventure;Action & Adventure : 0.03\n",
      "Video Players & Editors;Music & Video : 0.02\n",
      "Sports;Action & Adventure : 0.02\n",
      "Simulation;Pretend Play : 0.02\n",
      "Puzzle;Creativity : 0.02\n",
      "Music;Music & Video : 0.02\n",
      "Entertainment;Pretend Play : 0.02\n",
      "Casual;Education : 0.02\n",
      "Board;Action & Adventure : 0.02\n",
      "Video Players & Editors;Creativity : 0.01\n",
      "Trivia;Education : 0.01\n",
      "Travel & Local;Action & Adventure : 0.01\n",
      "Tools;Education : 0.01\n",
      "Strategy;Education : 0.01\n",
      "Strategy;Creativity : 0.01\n",
      "Strategy;Action & Adventure : 0.01\n",
      "Simulation;Education : 0.01\n",
      "Role Playing;Brain Games : 0.01\n",
      "Racing;Pretend Play : 0.01\n",
      "Puzzle;Education : 0.01\n",
      "Parenting;Brain Games : 0.01\n",
      "Music & Audio;Music & Video : 0.01\n",
      "Lifestyle;Pretend Play : 0.01\n",
      "Lifestyle;Education : 0.01\n",
      "Health & Fitness;Education : 0.01\n",
      "Health & Fitness;Action & Adventure : 0.01\n",
      "Entertainment;Education : 0.01\n",
      "Communication;Creativity : 0.01\n",
      "Comics;Creativity : 0.01\n",
      "Casual;Music & Video : 0.01\n",
      "Card;Action & Adventure : 0.01\n",
      "Books & Reference;Education : 0.01\n",
      "Art & Design;Pretend Play : 0.01\n",
      "Art & Design;Action & Adventure : 0.01\n",
      "Arcade;Pretend Play : 0.01\n",
      "Adventure;Education : 0.01\n"
     ]
    }
   ],
   "source": [
    "display_table(free_google_apps,9) # Genre column in the Google Play dataset"
   ]
  },
  {
   "cell_type": "code",
   "execution_count": 26,
   "id": "a4f08bae",
   "metadata": {},
   "outputs": [
    {
     "name": "stdout",
     "output_type": "stream",
     "text": [
      "FAMILY : 18.91\n",
      "GAME : 9.72\n",
      "TOOLS : 8.46\n",
      "BUSINESS : 4.59\n",
      "LIFESTYLE : 3.9\n",
      "PRODUCTIVITY : 3.89\n",
      "FINANCE : 3.7\n",
      "MEDICAL : 3.53\n",
      "SPORTS : 3.4\n",
      "PERSONALIZATION : 3.32\n",
      "COMMUNICATION : 3.24\n",
      "HEALTH_AND_FITNESS : 3.08\n",
      "PHOTOGRAPHY : 2.94\n",
      "NEWS_AND_MAGAZINES : 2.8\n",
      "SOCIAL : 2.66\n",
      "TRAVEL_AND_LOCAL : 2.34\n",
      "SHOPPING : 2.25\n",
      "BOOKS_AND_REFERENCE : 2.14\n",
      "DATING : 1.86\n",
      "VIDEO_PLAYERS : 1.79\n",
      "MAPS_AND_NAVIGATION : 1.4\n",
      "FOOD_AND_DRINK : 1.24\n",
      "EDUCATION : 1.16\n",
      "ENTERTAINMENT : 0.96\n",
      "LIBRARIES_AND_DEMO : 0.94\n",
      "AUTO_AND_VEHICLES : 0.93\n",
      "HOUSE_AND_HOME : 0.82\n",
      "WEATHER : 0.8\n",
      "EVENTS : 0.71\n",
      "PARENTING : 0.65\n",
      "ART_AND_DESIGN : 0.64\n",
      "COMICS : 0.62\n",
      "BEAUTY : 0.6\n"
     ]
    }
   ],
   "source": [
    "display_table(free_google_apps,1) # Category column in the Goople Play dataset"
   ]
  },
  {
   "cell_type": "markdown",
   "id": "0b57eaee",
   "metadata": {},
   "source": [
    "### Observation"
   ]
  },
  {
   "cell_type": "markdown",
   "id": "7c89e777",
   "metadata": {},
   "source": [
    "Now I'll concentrate on studying these frequency tables:\n",
    "\n",
    "`prime_genre`:\n",
    "\n",
    "`Games` is the most popular genre among free english apps in the Apple App Store, accounting for **58.16%** of the free english apps listing. The second most popular category is `Entertainment`, which accounts for **7.88%** of the free english apps list.\n",
    "\n",
    "Remember, I'm just interested in free english applications, so I try not to broaden my views beyond that.\n",
    "\n",
    "Observing the patterns presented, the bulk of the applications are leisure apps (`Games`,`Entertainment`,`Photo and Video`,etc), giving the impression that the majority of the apps are intended for entertainment.\n",
    "\n",
    "Despite the fact that the majority of the free english applications in the Apple App Store are games, I cannot suggest an app profile for the Apple App Store market based only on that frequency. A high number of applications for a certain genre does not always indicate that apps in that genre have a significant number of users. I'll have to check into it as well before coming to a decision.\n",
    "\n",
    "\n",
    "`Category` and `Genre`:\n",
    "\n",
    "The most popular genres of Google Play free english apps are `Tools`, `Entertainment`, and `Education`. With respective percentage take-ups of **8.45%**, **6.07%**, and **5.35%**. Looking at the category these applications fall into, the bulk of them would be classified as `Family`, with **18.91%**, followed by `Game`, with **9.72%** and `Tools` with **8.46%**.\n",
    "\n",
    "When comparing the most popular free english applications in the Google Play store to those in the Apple App store, gaming apps are in the top three in both datasets. With this knowledge, I am tempted to investigate the user adoption of gaming applications in order to better understand why these apps are so prevalent in both datasets. However, based on what I've discovered so far, I'm still unable to suggest a certain app profile."
   ]
  },
  {
   "cell_type": "markdown",
   "id": "506a06a2",
   "metadata": {},
   "source": [
    "#### Further Analysis "
   ]
  },
  {
   "cell_type": "markdown",
   "id": "7eda0146",
   "metadata": {},
   "source": [
    "##### Apple App Store \n",
    "\n",
    "Now, I would like to determine the kind of apps with the most users. \n",
    "\n",
    "One way to find out what genres are the most popular (have the most users) is to calculate the average number of installs for each app genre. For the Google Play dataset, we can find this information in the `Installs` column, but this information is missing for the Apple App Store dataset. As a workaround, I'll take the total number of user ratings as a proxy, which I can find in the `rating_count_tot` column.\n",
    "\n",
    "I'll start with calculating the average number of user ratings per app genre on the Apple App Store. To do that, I'll need to do the following:\n",
    "\n",
    "- Isolate the apps of each genre\n",
    "- Add up the user ratings for the apps of that genre\n",
    "- Divide the sum by the number of apps belonging to that genre (not by the total number of apps)"
   ]
  },
  {
   "cell_type": "code",
   "execution_count": 27,
   "id": "b7e2948e",
   "metadata": {},
   "outputs": [
    {
     "name": "stdout",
     "output_type": "stream",
     "text": [
      "Social Networking  :  71548.35\n",
      "Photo & Video  :  28441.54\n",
      "Games  :  22788.67\n",
      "Music  :  57326.53\n",
      "Reference  :  74942.11\n",
      "Health & Fitness  :  23298.02\n",
      "Weather  :  52279.89\n",
      "Utilities  :  18684.46\n",
      "Travel  :  28243.8\n",
      "Shopping  :  26919.69\n",
      "News  :  21248.02\n",
      "Navigation  :  86090.33\n",
      "Lifestyle  :  16485.76\n",
      "Entertainment  :  14029.83\n",
      "Food & Drink  :  33333.92\n",
      "Sports  :  23008.9\n",
      "Book  :  39758.5\n",
      "Finance  :  31467.94\n",
      "Education  :  7003.98\n",
      "Productivity  :  21028.41\n",
      "Business  :  7491.12\n",
      "Catalogs  :  4004.0\n",
      "Medical  :  612.0\n"
     ]
    }
   ],
   "source": [
    "# Apple App Store number of average user rating \n",
    "unique_genre = freq_table(free_apple_apps,11)\n",
    "for genre in unique_genre:\n",
    "    total = 0\n",
    "    len_genre = 0\n",
    "    for app in free_apple_apps:\n",
    "        genre_app = app[11]\n",
    "        if genre_app == genre:\n",
    "            user_rating_count = float(app[5])\n",
    "            total += user_rating_count\n",
    "            len_genre += 1\n",
    "    avg_user_rating_count = round(total / len_genre,2)\n",
    "    print(genre, \" : \", avg_user_rating_count)"
   ]
  },
  {
   "cell_type": "markdown",
   "id": "99371a3d",
   "metadata": {},
   "source": [
    " Observing the average user ratings above `Navigation`, `Referencing`,`Social Networking`,`Music` and `Weather` are the largest genres. I will now look at the Google Play Store dataset and then make an assessment on an app profile recommendation for both stores. "
   ]
  },
  {
   "cell_type": "markdown",
   "id": "aa0e98f7",
   "metadata": {},
   "source": [
    "##### Google Play Store\n",
    "\n",
    "In the previous step, I observed the possible app profiles for the App Store based on the number of user ratings. I have data about the number of installs for the Google Play market, so I should be able to get a clearer picture about genre popularity. However, the install numbers don't seem precise enough — I can see that most values are open-ended (100+, 1,000+, 5,000+, etc.):"
   ]
  },
  {
   "cell_type": "code",
   "execution_count": 28,
   "id": "f48e89bb",
   "metadata": {},
   "outputs": [
    {
     "name": "stdout",
     "output_type": "stream",
     "text": [
      "1,000,000+ : 15.73\n",
      "100,000+ : 11.55\n",
      "10,000,000+ : 10.55\n",
      "10,000+ : 10.2\n",
      "1,000+ : 8.39\n",
      "100+ : 6.92\n",
      "5,000,000+ : 6.83\n",
      "500,000+ : 5.56\n",
      "50,000+ : 4.77\n",
      "5,000+ : 4.51\n",
      "10+ : 3.54\n",
      "500+ : 3.25\n",
      "50,000,000+ : 2.3\n",
      "100,000,000+ : 2.13\n",
      "50+ : 1.92\n",
      "5+ : 0.79\n",
      "1+ : 0.51\n",
      "500,000,000+ : 0.27\n",
      "1,000,000,000+ : 0.23\n",
      "0+ : 0.05\n",
      "0 : 0.01\n"
     ]
    }
   ],
   "source": [
    "display_table(free_google_apps, 5) # Install columns"
   ]
  },
  {
   "cell_type": "markdown",
   "id": "45afb599",
   "metadata": {},
   "source": [
    "For instance, I don't know whether an app with 100,000+ installs has 100,000 installs, 200,000, or 350,000. However, I don't need very precise data for our purposes — I only want to find out which app genres attract the most users.\n",
    "\n",
    "I am going to leave the numbers as they are, which means that I'll consider that an app with 100,000+ installs has 100,000 installs, and an app with 1,000,000+ installs has 1,000,000 installs, and so on. To perform computations, however, I'll need to convert each install number from a string to a float. This means I need to remove the commas and the plus characters, or the conversion will fail and cause an error."
   ]
  },
  {
   "cell_type": "code",
   "execution_count": 29,
   "id": "b92f7a04",
   "metadata": {},
   "outputs": [
    {
     "name": "stdout",
     "output_type": "stream",
     "text": [
      "ART_AND_DESIGN  :  1986335.09\n",
      "AUTO_AND_VEHICLES  :  647317.82\n",
      "BEAUTY  :  513151.89\n",
      "BOOKS_AND_REFERENCE  :  8767811.89\n",
      "BUSINESS  :  1712290.15\n",
      "COMICS  :  817657.27\n",
      "COMMUNICATION  :  38456119.17\n",
      "DATING  :  854028.83\n",
      "EDUCATION  :  1833495.15\n",
      "ENTERTAINMENT  :  11640705.88\n",
      "EVENTS  :  253542.22\n",
      "FINANCE  :  1387692.48\n",
      "FOOD_AND_DRINK  :  1924897.74\n",
      "HEALTH_AND_FITNESS  :  4188821.99\n",
      "HOUSE_AND_HOME  :  1331540.56\n",
      "LIBRARIES_AND_DEMO  :  638503.73\n",
      "LIFESTYLE  :  1437816.27\n",
      "GAME  :  15588015.6\n",
      "FAMILY  :  3695641.82\n",
      "MEDICAL  :  120550.62\n",
      "SOCIAL  :  23253652.13\n",
      "SHOPPING  :  7036877.31\n",
      "PHOTOGRAPHY  :  17840110.4\n",
      "SPORTS  :  3638640.14\n",
      "TRAVEL_AND_LOCAL  :  13984077.71\n",
      "TOOLS  :  10801391.3\n",
      "PERSONALIZATION  :  5201482.61\n",
      "PRODUCTIVITY  :  16787331.34\n",
      "PARENTING  :  542603.62\n",
      "WEATHER  :  5074486.2\n",
      "VIDEO_PLAYERS  :  24727872.45\n",
      "NEWS_AND_MAGAZINES  :  9549178.47\n",
      "MAPS_AND_NAVIGATION  :  4056941.77\n"
     ]
    }
   ],
   "source": [
    "# Google Play Store number of average user rating \n",
    "unique_google_genre = freq_table(free_google_apps,1)\n",
    "for category in unique_google_genre:\n",
    "    total = 0\n",
    "    len_category = 0\n",
    "    for app in free_google_apps:\n",
    "        category_app = app[1]\n",
    "        if category_app == category:\n",
    "            installs = app[5].replace('+','')\n",
    "            installs = installs.replace(',','')\n",
    "            total += float(installs)\n",
    "            len_category += 1\n",
    "    avg_install_count = round(total / len_category,2)\n",
    "    print(category, \" : \", avg_install_count)"
   ]
  },
  {
   "cell_type": "markdown",
   "id": "fcc08793",
   "metadata": {},
   "source": [
    "Observing the average user ratings above `Communication`, `Video Player`,`Social`,`Photography` and `Productivity` are the largest categories. I will now analyze both datasets and make my conclusion"
   ]
  },
  {
   "cell_type": "markdown",
   "id": "1a4d12b6",
   "metadata": {},
   "source": [
    "## Conclusion"
   ]
  },
  {
   "cell_type": "markdown",
   "id": "caa5ddf2",
   "metadata": {},
   "source": [
    "To conlcude, please bear in mind that our aim is to recommend an app genre that has the potential to be profitable on both the Apple App Store and the Google Play Store. Taking the objective into consideration, I decided that a **\"social\"** application would be the best fit for our delevopers to work on.\n",
    "\n",
    "The amount of downloads and user ratings for **social** applications are in the top three categories in both the Apple App Store and the Google Play Store, and the competition is not as fierce, indicating that the market for social apps is not oversaturated and that there is room for new entrants. While it may be more challenging in the conventional world since companies would want to create market monopolies, in the technology world, better apps along with intuitive marketing will force them out of monopolistic positions.\n",
    "\n",
    "It is conceivable that in addition to the raw version of a social media application, we will need to incorporate some additional functions. This may include the *__capacity to have several video conferencing sessions, large media file transfers, and a greater group chat space, among other things.__* \n"
   ]
  },
  {
   "cell_type": "code",
   "execution_count": null,
   "id": "ca4a1322",
   "metadata": {},
   "outputs": [],
   "source": []
  }
 ],
 "metadata": {
  "kernelspec": {
   "display_name": "Python 3",
   "language": "python",
   "name": "python3"
  },
  "language_info": {
   "codemirror_mode": {
    "name": "ipython",
    "version": 3
   },
   "file_extension": ".py",
   "mimetype": "text/x-python",
   "name": "python",
   "nbconvert_exporter": "python",
   "pygments_lexer": "ipython3",
   "version": "3.7.9"
  }
 },
 "nbformat": 4,
 "nbformat_minor": 5
}
